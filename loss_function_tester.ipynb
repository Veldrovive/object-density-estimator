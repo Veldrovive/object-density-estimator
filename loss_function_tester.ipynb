{
 "cells": [
  {
   "cell_type": "code",
   "execution_count": 1,
   "metadata": {},
   "outputs": [
    {
     "name": "stderr",
     "output_type": "stream",
     "text": [
      "/home/aidan/anaconda3/envs/py3/lib/python3.5/site-packages/h5py/__init__.py:36: FutureWarning: Conversion of the second argument of issubdtype from `float` to `np.floating` is deprecated. In future, it will be treated as `np.float64 == np.dtype(float).type`.\n",
      "  from ._conv import register_converters as _register_converters\n",
      "Using TensorFlow backend.\n"
     ]
    }
   ],
   "source": [
    "from loss import den_loss\n",
    "import tensorflow as tf\n",
    "import scipy.ndimage\n",
    "import matplotlib.pyplot as plt\n",
    "import numpy as np"
   ]
  },
  {
   "cell_type": "code",
   "execution_count": 2,
   "metadata": {},
   "outputs": [],
   "source": [
    "test_tensor_true = None\n",
    "test_tensor_pred = None\n",
    "\n",
    "test_arr_true = np.zeros((1, 100, 100, 1))\n",
    "test_arr_pred = np.zeros((1, 100, 100, 1))\n",
    "\n",
    "test_arr_true[0][20][50] = 1\n",
    "test_arr_true[0][40][80] = 1\n",
    "\n",
    "test_arr_pred[0][22][50] = 1\n",
    "test_arr_pred[0][80][10] = 1"
   ]
  },
  {
   "cell_type": "code",
   "execution_count": 3,
   "metadata": {},
   "outputs": [
    {
     "name": "stdout",
     "output_type": "stream",
     "text": [
      "Sum of test_arr_true: 2.0\n",
      "Sum of test_arr_pred: 2.0\n"
     ]
    }
   ],
   "source": [
    "print(\"Sum of test_arr_true: {}\".format(np.sum(test_arr_true)))\n",
    "print(\"Sum of test_arr_pred: {}\".format(np.sum(test_arr_pred)))"
   ]
  },
  {
   "cell_type": "code",
   "execution_count": 4,
   "metadata": {},
   "outputs": [
    {
     "data": {
      "image/png": "[encoded data removed]",
      "text/plain": [
       "<matplotlib.figure.Figure at 0x7f16e63189e8>"
      ]
     },
     "metadata": {},
     "output_type": "display_data"
    }
   ],
   "source": [
    "fig = plt.figure()\n",
    "fig.add_subplot(1, 2, 1)\n",
    "plt.imshow(test_arr_true[0].reshape((test_arr_true.shape[1], test_arr_true.shape[2])))\n",
    "fig.add_subplot(1, 2, 2)\n",
    "plt.imshow(test_arr_pred[0].reshape((test_arr_pred.shape[1], test_arr_pred.shape[2])))\n",
    "plt.show()"
   ]
  },
  {
   "cell_type": "code",
   "execution_count": 5,
   "metadata": {},
   "outputs": [
    {
     "name": "stdout",
     "output_type": "stream",
     "text": [
      "4.0\n"
     ]
    }
   ],
   "source": [
    "test_tensor_true = tf.convert_to_tensor(test_arr_true)\n",
    "test_tensor_pred = tf.convert_to_tensor(test_arr_pred)\n",
    "\n",
    "pred_loss = den_loss(test_tensor_true, test_tensor_pred)\n",
    "\n",
    "with tf.Session() as sess:\n",
    "    print(sess.run(pred_loss))"
   ]
  },
  {
   "cell_type": "code",
   "execution_count": 6,
   "metadata": {},
   "outputs": [],
   "source": [
    "test_arr_true_den = scipy.ndimage.filters.gaussian_filter(test_arr_true, 2, mode='constant')\n",
    "test_arr_pred_den = scipy.ndimage.filters.gaussian_filter(test_arr_pred, 2, mode='constant')\n",
    "\n",
    "test_arr_true_den *= np.sum(test_arr_true) / np.sum(test_arr_true_den)\n",
    "test_arr_pred_den *= np.sum(test_arr_pred) / np.sum(test_arr_pred_den)"
   ]
  },
  {
   "cell_type": "code",
   "execution_count": 7,
   "metadata": {},
   "outputs": [
    {
     "name": "stdout",
     "output_type": "stream",
     "text": [
      "Sum of test_arr_true_den: 2.0\n",
      "Sum of test_arr_pred_den: 2.0000000000000004\n"
     ]
    }
   ],
   "source": [
    "print(\"Sum of test_arr_true_den: {}\".format(np.sum(test_arr_true_den)))\n",
    "print(\"Sum of test_arr_pred_den: {}\".format(np.sum(test_arr_pred_den)))"
   ]
  },
  {
   "cell_type": "code",
   "execution_count": 8,
   "metadata": {},
   "outputs": [
    {
     "data": {
      "image/png": "[encoded data removed]",
      "text/plain": [
       "<matplotlib.figure.Figure at 0x7f16e426fd68>"
      ]
     },
     "metadata": {},
     "output_type": "display_data"
    }
   ],
   "source": [
    "fig = plt.figure()\n",
    "fig.add_subplot(1, 2, 1)\n",
    "plt.imshow(test_arr_true_den[0].reshape((test_arr_true_den.shape[1], test_arr_true_den.shape[2])))\n",
    "fig.add_subplot(1, 2, 2)\n",
    "plt.imshow(test_arr_pred_den[0].reshape((test_arr_pred_den.shape[1], test_arr_pred_den.shape[2])))\n",
    "plt.show()"
   ]
  },
  {
   "cell_type": "code",
   "execution_count": 9,
   "metadata": {},
   "outputs": [
    {
     "name": "stdout",
     "output_type": "stream",
     "text": [
      "2.751020813499072\n"
     ]
    }
   ],
   "source": [
    "test_tensor_true_den = tf.convert_to_tensor(test_arr_true_den)\n",
    "test_tensor_pred_den = tf.convert_to_tensor(test_arr_pred_den)\n",
    "\n",
    "pred_loss_den = den_loss(test_tensor_true_den, test_tensor_pred_den)\n",
    "\n",
    "with tf.Session() as sess:\n",
    "    print(sess.run(pred_loss_den))"
   ]
  },
  {
   "cell_type": "code",
   "execution_count": null,
   "metadata": {},
   "outputs": [],
   "source": []
  },
  {
   "cell_type": "code",
   "execution_count": null,
   "metadata": {},
   "outputs": [],
   "source": []
  }
 ],
 "metadata": {
  "kernelspec": {
   "display_name": "py3",
   "language": "python",
   "name": "py3"
  },
  "language_info": {
   "codemirror_mode": {
    "name": "ipython",
    "version": 3
   },
   "file_extension": ".py",
   "mimetype": "text/x-python",
   "name": "python",
   "nbconvert_exporter": "python",
   "pygments_lexer": "ipython3",
   "version": "3.5.5"
  }
 },
 "nbformat": 4,
 "nbformat_minor": 2
}
